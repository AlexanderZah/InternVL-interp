{
 "cells": [
  {
   "cell_type": "code",
   "execution_count": null,
   "id": "ffea052d",
   "metadata": {},
   "outputs": [],
   "source": [
    "# # При запуске кода в colab/kaggle можно склонировать данный репозиторий \n",
    "# !git clone https://github.com/AlexanderZah/InternVL-interp.git"
   ]
  },
  {
   "cell_type": "code",
   "execution_count": null,
   "id": "7ca8f592",
   "metadata": {},
   "outputs": [],
   "source": [
    "import os\n",
    "os.environ['ROOT_DIR'] = '/kaggle/working/InternVL-interp'"
   ]
  },
  {
   "cell_type": "code",
   "execution_count": null,
   "id": "75c471ef",
   "metadata": {},
   "outputs": [],
   "source": [
    "# !pip install -U -r $ROOT_DIR/requirements.txt"
   ]
  },
  {
   "cell_type": "code",
   "execution_count": null,
   "id": "f75d043e",
   "metadata": {},
   "outputs": [],
   "source": [
    "!pip install -U bitsandbytes"
   ]
  },
  {
   "cell_type": "code",
   "execution_count": null,
   "id": "cda6e7f8",
   "metadata": {},
   "outputs": [],
   "source": [
    "import sys\n",
    "\n",
    "sys.path.append(os.environ[\"ROOT_DIR\"])\n",
    "sys.path.append(os.environ[\"ROOT_DIR\"] + '/methods')\n",
    "sys.path.append(os.environ[\"ROOT_DIR\"] + 'src/caption/internvl')"
   ]
  },
  {
   "cell_type": "code",
   "execution_count": null,
   "id": "a06e130c",
   "metadata": {},
   "outputs": [],
   "source": [
    "from methods.internvl_utils import retrieve_logit_lens_internvl, load_internvl_state\n",
    "from methods.algorithms import internal_confidence, internal_confidence_heatmap, internal_confidence_segmentation\n",
    "from PIL import Image\n",
    "from matplotlib import pyplot as plt\n",
    "import numpy as np"
   ]
  },
  {
   "cell_type": "code",
   "execution_count": null,
   "id": "13a1ec82",
   "metadata": {},
   "outputs": [],
   "source": [
    "model_state = load_internvl_state()"
   ]
  },
  {
   "cell_type": "code",
   "execution_count": null,
   "id": "08666e5f",
   "metadata": {},
   "outputs": [],
   "source": [
    "img_path = os.path.join(os.environ[\"ROOT_DIR\"],\"images/COCO_val2014_000000004108.jpg\")\n",
    "caption, softmax_probs = retrieve_logit_lens_internvl(model_state, img_path, num_patches=1)"
   ]
  },
  {
   "cell_type": "code",
   "execution_count": null,
   "id": "bdc4d2d4",
   "metadata": {},
   "outputs": [],
   "source": [
    "class_ = 'cake'\n",
    "internal_confidence(model_state['tokenizer'], softmax_probs, class_)"
   ]
  },
  {
   "cell_type": "code",
   "execution_count": null,
   "id": "748aeadf",
   "metadata": {},
   "outputs": [],
   "source": [
    "\n",
    "model_name = model_state['model_name']\n",
    "heatmap_data = internal_confidence_heatmap(model_state['tokenizer'], softmax_probs, class_)\n",
    "num_image_embeddings = softmax_probs.shape[2]\n",
    "im = plt.imshow(heatmap_data, aspect=30/num_image_embeddings, cmap='Blues', interpolation='nearest')\n",
    "plt.title(f\"'{class_}' probabilities\")\n",
    "plt.xlabel(\"LM Layer\")\n",
    "plt.ylabel(\"Image Embedding Index\")\n",
    "plt.tight_layout()\n",
    "plt.clim(0, 1)\n",
    "plt.colorbar()\n",
    "plt.show()"
   ]
  },
  {
   "cell_type": "code",
   "execution_count": null,
   "id": "fade9947",
   "metadata": {},
   "outputs": [],
   "source": [
    "img = Image.open(img_path).convert(\"RGB\")\n",
    "img_width, img_height = img.size\n",
    "\n",
    "segmentation = internal_confidence_segmentation(model_state['tokenizer'], softmax_probs, class_, 16)\n",
    "segmentation_resized = (np.array(Image.fromarray(segmentation).resize((img_width, img_height), Image.BILINEAR)))\n",
    "\n",
    "plt.imshow(img)\n",
    "plt.imshow(segmentation_resized, cmap='jet', interpolation='bilinear', alpha=.5)\n",
    "plt.axis('off')\n",
    "plt.title(f\"'{class_}' localization\")\n",
    "plt.tight_layout()\n",
    "plt.show()"
   ]
  }
 ],
 "metadata": {
  "language_info": {
   "name": "python"
  }
 },
 "nbformat": 4,
 "nbformat_minor": 5
}
