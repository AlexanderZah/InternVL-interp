{
 "cells": [
  {
   "cell_type": "code",
   "execution_count": null,
   "metadata": {
    "execution": {
     "iopub.execute_input": "2025-06-22T22:03:42.518875Z",
     "iopub.status.busy": "2025-06-22T22:03:42.518579Z",
     "iopub.status.idle": "2025-06-22T22:03:42.532750Z",
     "shell.execute_reply": "2025-06-22T22:03:42.532079Z",
     "shell.execute_reply.started": "2025-06-22T22:03:42.518858Z"
    },
    "trusted": true
   },
   "outputs": [],
   "source": [
    "#!git clone https://github.com/AlexanderZah/InternVL-interp.git"
   ]
  },
  {
   "cell_type": "code",
   "execution_count": null,
   "metadata": {},
   "outputs": [],
   "source": [
    "import os\n",
    "os.environ['ROOT_DIR'] = '/content/InternVL-interp'"
   ]
  },
  {
   "cell_type": "code",
   "execution_count": null,
   "metadata": {},
   "outputs": [],
   "source": [
    "#!pip install -r $ROOT_DIR/requirements.txt"
   ]
  },
  {
   "cell_type": "code",
   "execution_count": null,
   "metadata": {},
   "outputs": [
    {
     "ename": "",
     "evalue": "",
     "output_type": "error",
     "traceback": [
      "\u001b[1;31mДля выполнения ячеек с \"venv (Python 3.12.2)\" требуется пакет ipykernel.\n",
      "\u001b[1;31mУстановите \"ipykernel\" в среде Python. \n",
      "\u001b[1;31mКоманда: \"c:/Users/Пользователь/Desktop/учеба/test_vl-interp_for_git/venv/Scripts/python.exe -m pip install ipykernel -U --force-reinstall\""
     ]
    }
   ],
   "source": [
    "import sys\n",
    "\n",
    "sys.path.append(os.environ[\"ROOT_DIR\"])\n",
    "sys.path.append(os.environ[\"ROOT_DIR\"] + '/methods')\n",
    "sys.path.append(os.environ[\"ROOT_DIR\"] + 'src/caption/internvl')"
   ]
  },
  {
   "cell_type": "code",
   "execution_count": null,
   "metadata": {
    "execution": {
     "iopub.execute_input": "2025-06-22T22:03:42.533689Z",
     "iopub.status.busy": "2025-06-22T22:03:42.533481Z",
     "iopub.status.idle": "2025-06-22T22:04:22.965634Z",
     "shell.execute_reply": "2025-06-22T22:04:22.964967Z",
     "shell.execute_reply.started": "2025-06-22T22:03:42.533673Z"
    },
    "trusted": true
   },
   "outputs": [
    {
     "ename": "",
     "evalue": "",
     "output_type": "error",
     "traceback": [
      "\u001b[1;31mНе удалось запустить ядро из-за отсутствия модуля \"IPython\". Рассмотрите возможность установки этого модуля.\n",
      "\u001b[1;31mНажмите <a href=\"https://aka.ms/kernelFailuresMissingModule\">здесь</a> для получения дополнительных сведений."
     ]
    }
   ],
   "source": [
    "import os\n",
    "\n",
    "from methods.internvl_utils import retrieve_logit_lens_internvl, load_internvl_state\n",
    "from methods.algorithms import internal_confidence, internal_confidence_heatmap, internal_confidence_segmentation\n",
    "from PIL import Image\n",
    "from matplotlib import pyplot as plt\n",
    "import numpy as np"
   ]
  },
  {
   "cell_type": "code",
   "execution_count": null,
   "metadata": {
    "execution": {
     "iopub.execute_input": "2025-06-22T22:04:23.031960Z",
     "iopub.status.busy": "2025-06-22T22:04:23.031678Z",
     "iopub.status.idle": "2025-06-22T22:05:10.522612Z",
     "shell.execute_reply": "2025-06-22T22:05:10.521978Z",
     "shell.execute_reply.started": "2025-06-22T22:04:23.031937Z"
    },
    "trusted": true
   },
   "outputs": [
    {
     "name": "stdout",
     "output_type": "stream",
     "text": [
      "/kaggle/working/vl-interp\n"
     ]
    },
    {
     "data": {
      "application/vnd.jupyter.widget-view+json": {
       "model_id": "0b8c2a9e881a4ab1b75c4d43679d74e4",
       "version_major": 2,
       "version_minor": 0
      },
      "text/plain": [
       "config.json:   0%|          | 0.00/3.74k [00:00<?, ?B/s]"
      ]
     },
     "metadata": {},
     "output_type": "display_data"
    },
    {
     "data": {
      "application/vnd.jupyter.widget-view+json": {
       "model_id": "c66488f969e04e2bab92b015487c29df",
       "version_major": 2,
       "version_minor": 0
      },
      "text/plain": [
       "configuration_internvl_chat.py:   0%|          | 0.00/4.04k [00:00<?, ?B/s]"
      ]
     },
     "metadata": {},
     "output_type": "display_data"
    },
    {
     "data": {
      "application/vnd.jupyter.widget-view+json": {
       "model_id": "8f6426350ee743a3b6f33978813a92c9",
       "version_major": 2,
       "version_minor": 0
      },
      "text/plain": [
       "configuration_intern_vit.py:   0%|          | 0.00/5.55k [00:00<?, ?B/s]"
      ]
     },
     "metadata": {},
     "output_type": "display_data"
    },
    {
     "name": "stderr",
     "output_type": "stream",
     "text": [
      "A new version of the following files was downloaded from https://huggingface.co/OpenGVLab/InternVL2_5-4B:\n",
      "- configuration_intern_vit.py\n",
      ". Make sure to double-check they do not contain any added malicious code. To avoid downloading new versions of the code file, you can pin a revision.\n",
      "A new version of the following files was downloaded from https://huggingface.co/OpenGVLab/InternVL2_5-4B:\n",
      "- configuration_internvl_chat.py\n",
      "- configuration_intern_vit.py\n",
      ". Make sure to double-check they do not contain any added malicious code. To avoid downloading new versions of the code file, you can pin a revision.\n"
     ]
    },
    {
     "data": {
      "application/vnd.jupyter.widget-view+json": {
       "model_id": "a84291915a03434fab3627cb782d54ff",
       "version_major": 2,
       "version_minor": 0
      },
      "text/plain": [
       "modeling_internvl_chat.py:   0%|          | 0.00/15.9k [00:00<?, ?B/s]"
      ]
     },
     "metadata": {},
     "output_type": "display_data"
    },
    {
     "data": {
      "application/vnd.jupyter.widget-view+json": {
       "model_id": "679d4962b2304007b59296c7eab6d100",
       "version_major": 2,
       "version_minor": 0
      },
      "text/plain": [
       "conversation.py:   0%|          | 0.00/15.3k [00:00<?, ?B/s]"
      ]
     },
     "metadata": {},
     "output_type": "display_data"
    },
    {
     "name": "stderr",
     "output_type": "stream",
     "text": [
      "A new version of the following files was downloaded from https://huggingface.co/OpenGVLab/InternVL2_5-4B:\n",
      "- conversation.py\n",
      ". Make sure to double-check they do not contain any added malicious code. To avoid downloading new versions of the code file, you can pin a revision.\n"
     ]
    },
    {
     "data": {
      "application/vnd.jupyter.widget-view+json": {
       "model_id": "a8fdc7c137a74ee485cfde9a6dd7776d",
       "version_major": 2,
       "version_minor": 0
      },
      "text/plain": [
       "modeling_intern_vit.py:   0%|          | 0.00/18.1k [00:00<?, ?B/s]"
      ]
     },
     "metadata": {},
     "output_type": "display_data"
    },
    {
     "name": "stderr",
     "output_type": "stream",
     "text": [
      "A new version of the following files was downloaded from https://huggingface.co/OpenGVLab/InternVL2_5-4B:\n",
      "- modeling_intern_vit.py\n",
      ". Make sure to double-check they do not contain any added malicious code. To avoid downloading new versions of the code file, you can pin a revision.\n",
      "A new version of the following files was downloaded from https://huggingface.co/OpenGVLab/InternVL2_5-4B:\n",
      "- modeling_internvl_chat.py\n",
      "- conversation.py\n",
      "- modeling_intern_vit.py\n",
      ". Make sure to double-check they do not contain any added malicious code. To avoid downloading new versions of the code file, you can pin a revision.\n",
      "The `load_in_4bit` and `load_in_8bit` arguments are deprecated and will be removed in the future versions. Please, pass a `BitsAndBytesConfig` object in `quantization_config` argument instead.\n"
     ]
    },
    {
     "name": "stdout",
     "output_type": "stream",
     "text": [
      "FlashAttention2 is not installed.\n"
     ]
    },
    {
     "data": {
      "application/vnd.jupyter.widget-view+json": {
       "model_id": "e6b22b6c1b834ff987c8ad0e7813868b",
       "version_major": 2,
       "version_minor": 0
      },
      "text/plain": [
       "model.safetensors.index.json:   0%|          | 0.00/71.7k [00:00<?, ?B/s]"
      ]
     },
     "metadata": {},
     "output_type": "display_data"
    },
    {
     "data": {
      "application/vnd.jupyter.widget-view+json": {
       "model_id": "9991d6f5d3a1454f8a328137ae0dcc78",
       "version_major": 2,
       "version_minor": 0
      },
      "text/plain": [
       "Fetching 2 files:   0%|          | 0/2 [00:00<?, ?it/s]"
      ]
     },
     "metadata": {},
     "output_type": "display_data"
    },
    {
     "data": {
      "application/vnd.jupyter.widget-view+json": {
       "model_id": "51966f5b7f8245e2abb1e2e1777442e1",
       "version_major": 2,
       "version_minor": 0
      },
      "text/plain": [
       "model-00002-of-00002.safetensors:   0%|          | 0.00/2.43G [00:00<?, ?B/s]"
      ]
     },
     "metadata": {},
     "output_type": "display_data"
    },
    {
     "data": {
      "application/vnd.jupyter.widget-view+json": {
       "model_id": "9c4009ade9384dccb94d9894d0d97f54",
       "version_major": 2,
       "version_minor": 0
      },
      "text/plain": [
       "model-00001-of-00002.safetensors:   0%|          | 0.00/4.99G [00:00<?, ?B/s]"
      ]
     },
     "metadata": {},
     "output_type": "display_data"
    },
    {
     "name": "stderr",
     "output_type": "stream",
     "text": [
      "Sliding Window Attention is enabled but not implemented for `eager`; unexpected results may be encountered.\n"
     ]
    },
    {
     "data": {
      "application/vnd.jupyter.widget-view+json": {
       "model_id": "5a0c0d6f2a7644fb91937e619c4ea696",
       "version_major": 2,
       "version_minor": 0
      },
      "text/plain": [
       "Loading checkpoint shards:   0%|          | 0/2 [00:00<?, ?it/s]"
      ]
     },
     "metadata": {},
     "output_type": "display_data"
    },
    {
     "data": {
      "application/vnd.jupyter.widget-view+json": {
       "model_id": "aef794efa99b4b2cbdc415d6644868a1",
       "version_major": 2,
       "version_minor": 0
      },
      "text/plain": [
       "generation_config.json:   0%|          | 0.00/129 [00:00<?, ?B/s]"
      ]
     },
     "metadata": {},
     "output_type": "display_data"
    },
    {
     "data": {
      "application/vnd.jupyter.widget-view+json": {
       "model_id": "de7b213fa7484020aa92a6942cf0870c",
       "version_major": 2,
       "version_minor": 0
      },
      "text/plain": [
       "tokenizer_config.json:   0%|          | 0.00/9.02k [00:00<?, ?B/s]"
      ]
     },
     "metadata": {},
     "output_type": "display_data"
    },
    {
     "data": {
      "application/vnd.jupyter.widget-view+json": {
       "model_id": "c8d8578de9704e078131e716cc3c1885",
       "version_major": 2,
       "version_minor": 0
      },
      "text/plain": [
       "vocab.json:   0%|          | 0.00/3.38M [00:00<?, ?B/s]"
      ]
     },
     "metadata": {},
     "output_type": "display_data"
    },
    {
     "data": {
      "application/vnd.jupyter.widget-view+json": {
       "model_id": "58bc2c708bfb483e89b6cdbf95aa58c2",
       "version_major": 2,
       "version_minor": 0
      },
      "text/plain": [
       "merges.txt:   0%|          | 0.00/1.67M [00:00<?, ?B/s]"
      ]
     },
     "metadata": {},
     "output_type": "display_data"
    },
    {
     "data": {
      "application/vnd.jupyter.widget-view+json": {
       "model_id": "418e5134800545039c1188a2cd35c275",
       "version_major": 2,
       "version_minor": 0
      },
      "text/plain": [
       "added_tokens.json:   0%|          | 0.00/790 [00:00<?, ?B/s]"
      ]
     },
     "metadata": {},
     "output_type": "display_data"
    },
    {
     "data": {
      "application/vnd.jupyter.widget-view+json": {
       "model_id": "3e47d9601a80457492b2acac4afdcadb",
       "version_major": 2,
       "version_minor": 0
      },
      "text/plain": [
       "special_tokens_map.json:   0%|          | 0.00/744 [00:00<?, ?B/s]"
      ]
     },
     "metadata": {},
     "output_type": "display_data"
    }
   ],
   "source": [
    "model_state = load_internvl_state()"
   ]
  },
  {
   "cell_type": "code",
   "execution_count": null,
   "metadata": {
    "execution": {
     "iopub.execute_input": "2025-06-22T22:05:10.530085Z",
     "iopub.status.busy": "2025-06-22T22:05:10.529801Z",
     "iopub.status.idle": "2025-06-22T22:05:11.164456Z",
     "shell.execute_reply": "2025-06-22T22:05:11.163463Z",
     "shell.execute_reply.started": "2025-06-22T22:05:10.530060Z"
    },
    "trusted": true
   },
   "outputs": [
    {
     "name": "stdout",
     "output_type": "stream",
     "text": [
      "/kaggle/working/vl-interp\n",
      "Already up to date.\n"
     ]
    }
   ],
   "source": [
    "# %cd /kaggle/working/vl-interp\n",
    "# !git pull\n"
   ]
  },
  {
   "cell_type": "code",
   "execution_count": null,
   "metadata": {
    "execution": {
     "iopub.execute_input": "2025-06-22T22:05:11.166294Z",
     "iopub.status.busy": "2025-06-22T22:05:11.165856Z",
     "iopub.status.idle": "2025-06-22T22:05:11.187231Z",
     "shell.execute_reply": "2025-06-22T22:05:11.186560Z",
     "shell.execute_reply.started": "2025-06-22T22:05:11.166255Z"
    },
    "trusted": true
   },
   "outputs": [
    {
     "name": "stdout",
     "output_type": "stream",
     "text": [
      "methods\n",
      "methods.utils\n",
      "methods.internvl_utils\n",
      "methods.algorithms\n",
      "methods.qwen_vl_utils\n"
     ]
    }
   ],
   "source": [
    "# import sys\n",
    "# import importlib\n",
    "# for module in [m for m in sys.modules.keys() if m.startswith('methods') or m.startswith('internvl') or m.startswith('qwenvl')]:\n",
    "    \n",
    "#     if module in sys.modules:\n",
    "#         print(module)\n",
    "#         importlib.reload(sys.modules[module])"
   ]
  },
  {
   "cell_type": "code",
   "execution_count": null,
   "metadata": {
    "execution": {
     "execution_failed": "2025-06-22T22:06:00.016Z",
     "iopub.execute_input": "2025-06-22T22:05:11.188309Z",
     "iopub.status.busy": "2025-06-22T22:05:11.188043Z"
    },
    "trusted": true
   },
   "outputs": [
    {
     "name": "stderr",
     "output_type": "stream",
     "text": [
      "/usr/local/lib/python3.11/dist-packages/bitsandbytes/nn/modules.py:463: UserWarning: Input type into Linear4bit is torch.float16, but bnb_4bit_compute_dtype=torch.float32 (default). This will lead to slow inference or training speed.\n",
      "  warnings.warn(\n",
      "`generation_config` default values have been modified to match model-specific defaults: {'bos_token_id': 151643}. If this is not desired, please set these values explicitly.\n",
      "Setting `pad_token_id` to `eos_token_id`:151645 for open-end generation.\n"
     ]
    },
    {
     "name": "stdout",
     "output_type": "stream",
     "text": [
      "Caption: The image depicts a festive gathering with a table filled with various food items and drinks. In the center of the table, there is a large chocolate cake with green icing, which appears to be the centerpiece of the event. Surrounding the cake are several plates with slices of cake, as well as plates with what looks like a dessert or sweet treat. \n",
      "\n",
      "To the right of the cake, there is a large tray filled with hot dogs, which are arranged neatly on a large green leaf. The hot dogs are accompanied by condiments, including a bottle of ketchup and a jar of mustard. There are also several cups with straws, suggesting that beverages are being served. \n",
      "\n",
      "In the background, there are people seated at tables, enjoying the event. The room is decorated with balloons, indicating that this is a celebratory occasion, possibly a birthday party or a similar event. The overall atmosphere is lively and convivial, with people engaged in conversation and enjoying the food and company.\n"
     ]
    }
   ],
   "source": [
    "img_path = \"images/COCO_val2014_000000004108.jpg\"\n",
    "caption, softmax_probs = retrieve_logit_lens_internvl(model_state, img_path, num_patches=1)"
   ]
  },
  {
   "cell_type": "code",
   "execution_count": null,
   "metadata": {
    "execution": {
     "execution_failed": "2025-06-22T22:06:00.017Z"
    },
    "trusted": true
   },
   "outputs": [],
   "source": [
    "class_ = ' food'\n",
    "internal_confidence(model_state['tokenizer'], softmax_probs, class_)"
   ]
  },
  {
   "cell_type": "code",
   "execution_count": null,
   "metadata": {
    "execution": {
     "execution_failed": "2025-06-22T22:06:00.017Z"
    },
    "trusted": true
   },
   "outputs": [],
   "source": [
    "\n",
    "model_name = model_state['model_name']\n",
    "heatmap_data = internal_confidence_heatmap(model_state['tokenizer'], softmax_probs, class_)\n",
    "num_image_embeddings = softmax_probs.shape[2]\n",
    "im = plt.imshow(heatmap_data, aspect=30/num_image_embeddings, cmap='Blues', interpolation='nearest')\n",
    "plt.title(f\"'{class_}' probabilities\")\n",
    "plt.xlabel(\"LM Layer\")\n",
    "plt.ylabel(\"Image Embedding Index\")\n",
    "plt.tight_layout()\n",
    "plt.clim(0, 1)\n",
    "plt.colorbar()\n",
    "plt.savefig(f'/kaggle/working/{model_name}/heatmap_{class_}.png')\n",
    "plt.show()"
   ]
  },
  {
   "cell_type": "code",
   "execution_count": null,
   "metadata": {
    "execution": {
     "execution_failed": "2025-06-22T22:06:00.018Z"
    },
    "trusted": true
   },
   "outputs": [],
   "source": [
    "img = Image.open(img_path).convert(\"RGB\")\n",
    "img_width, img_height = img.size\n",
    "\n",
    "segmentation = internal_confidence_segmentation(model_state['tokenizer'], softmax_probs, class_, 16)\n",
    "segmentation_resized = (np.array(Image.fromarray(segmentation).resize((img_width, img_height), Image.BILINEAR)))\n",
    "\n",
    "plt.imshow(img)\n",
    "plt.imshow(segmentation_resized, cmap='jet', interpolation='bilinear', alpha=.5)\n",
    "plt.axis('off')\n",
    "plt.title(f\"'{class_}' localization\")\n",
    "plt.tight_layout()\n",
    "plt.savefig(f'/kaggle/working/{model_name}/segmentation_{class_}.png')\n",
    "plt.show()"
   ]
  }
 ],
 "metadata": {
  "kaggle": {
   "accelerator": "nvidiaTeslaT4",
   "dataSources": [
    {
     "datasetId": 6925997,
     "sourceId": 11109198,
     "sourceType": "datasetVersion"
    }
   ],
   "isGpuEnabled": true,
   "isInternetEnabled": true,
   "language": "python",
   "sourceType": "notebook"
  },
  "kernelspec": {
   "display_name": "venv",
   "language": "python",
   "name": "python3"
  },
  "language_info": {
   "codemirror_mode": {
    "name": "ipython",
    "version": 3
   },
   "file_extension": ".py",
   "mimetype": "text/x-python",
   "name": "python",
   "nbconvert_exporter": "python",
   "pygments_lexer": "ipython3",
   "version": "3.12.2"
  }
 },
 "nbformat": 4,
 "nbformat_minor": 4
}
